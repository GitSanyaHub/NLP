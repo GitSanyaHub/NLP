{
  "nbformat": 4,
  "nbformat_minor": 0,
  "metadata": {
    "colab": {
      "provenance": [],
      "gpuType": "T4",
      "authorship_tag": "ABX9TyPD6pbqNEAd/ayHPbutzuPO",
      "include_colab_link": true
    },
    "kernelspec": {
      "name": "python3",
      "display_name": "Python 3"
    },
    "language_info": {
      "name": "python"
    },
    "accelerator": "GPU"
  },
  "cells": [
    {
      "cell_type": "markdown",
      "metadata": {
        "id": "view-in-github",
        "colab_type": "text"
      },
      "source": [
        "<a href=\"https://colab.research.google.com/github/GitSanyaHub/NLP/blob/main/LLaMA/LLaMA_version_1.ipynb\" target=\"_parent\"><img src=\"https://colab.research.google.com/assets/colab-badge.svg\" alt=\"Open In Colab\"/></a>"
      ]
    },
    {
      "cell_type": "code",
      "execution_count": null,
      "metadata": {
        "id": "cdu8HkEB2_h6"
      },
      "outputs": [],
      "source": [
        "# PyTorch for implementing LLM (No GPU)\n",
        "import torch\n",
        "\n",
        "# Neural network modules and functions from PyTorch\n",
        "from torch import nn\n",
        "from torch.nn import functional as F\n",
        "\n",
        "# NumPy for numerical operations\n",
        "import numpy as np\n",
        "\n",
        "# Matplotlib for plotting Loss etc.\n",
        "from matplotlib import pyplot as plt\n",
        "\n",
        "# Time module for tracking execution time\n",
        "import time\n",
        "\n",
        "# Pandas for data manipulation and analysis\n",
        "import pandas as pd\n",
        "\n",
        "# urllib for handling URL requests (Downloading Dataset)\n",
        "import urllib.request\n",
        "\n",
        "# отслеживание выполнения\n",
        "from tqdm import tqdm\n",
        "\n",
        "from collections import OrderedDict\n"
      ]
    },
    {
      "cell_type": "code",
      "source": [
        "# Configuration object for model parameters\n",
        "MASTER_CONFIG = {\n",
        "    'batch_size': 32,        # Number of batches to be processed at each random split\n",
        "    'context_window': 16,    # Number of characters in each input (x) and target (y) sequence of each batch\n",
        "    'd_model': 128,          # Dimension of linear layers (128)\n",
        "    'vocab_size': 65,\n",
        "    'epochs': 3000,          # Number of training epochs\n",
        "    'log_interval': 10,      # Log information every 10 batches during training\n",
        "    'n_heads': 8,            # Number of attention heads\n",
        "    'n_layers': 4,            # Set the number of layers to 4\n",
        "}\n"
      ],
      "metadata": {
        "id": "kebChRNY3Bvv"
      },
      "execution_count": null,
      "outputs": []
    },
    {
      "cell_type": "code",
      "source": [
        "# The URL of the raw text file on GitHub\n",
        "url = \"https://raw.githubusercontent.com/bkitano/llama-from-scratch/main/input.txt\"\n",
        "\n",
        "# The file name for local storage\n",
        "file_name = \"tinyshakespeare.txt\"\n",
        "\n",
        "# Execute the download\n",
        "urllib.request.urlretrieve(url, file_name)\n"
      ],
      "metadata": {
        "colab": {
          "base_uri": "https://localhost:8080/"
        },
        "id": "8sziwcsm3Ebq",
        "outputId": "79e770de-a933-4b43-a404-a06458386711"
      },
      "execution_count": null,
      "outputs": [
        {
          "output_type": "execute_result",
          "data": {
            "text/plain": [
              "('tinyshakespeare.txt', <http.client.HTTPMessage at 0x7d2f75c83d00>)"
            ]
          },
          "metadata": {},
          "execution_count": 3
        }
      ]
    },
    {
      "cell_type": "code",
      "source": [
        "# Read the content of the dataset\n",
        "lines = open(\"tinyshakespeare.txt\", 'r').read()\n",
        "\n",
        "print(lines[:1000])\n",
        "\n",
        "# Create a sorted list of unique characters in the dataset\n",
        "vocab = sorted(list(set(lines)))\n",
        "\n",
        "# Display the first 10 characters in the vocabulary list\n",
        "print('Printing the first 10 characters of the vocab list:', vocab[:10])\n",
        "\n",
        "# Output the total number of characters in our dataset (Vocabulary Size)\n",
        "print('Total number of characters in our dataset (Vocabulary Size):', len(vocab))"
      ],
      "metadata": {
        "colab": {
          "base_uri": "https://localhost:8080/"
        },
        "id": "FqQJ3AT_3Ijm",
        "outputId": "cf0a3633-a6c4-4aef-8871-9114727d7efd"
      },
      "execution_count": null,
      "outputs": [
        {
          "output_type": "stream",
          "name": "stdout",
          "text": [
            "First Citizen:\n",
            "Before we proceed any further, hear me speak.\n",
            "\n",
            "All:\n",
            "Speak, speak.\n",
            "\n",
            "First Citizen:\n",
            "You are all resolved rather to die than to famish?\n",
            "\n",
            "All:\n",
            "Resolved. resolved.\n",
            "\n",
            "First Citizen:\n",
            "First, you know Caius Marcius is chief enemy to the people.\n",
            "\n",
            "All:\n",
            "We know't, we know't.\n",
            "\n",
            "First Citizen:\n",
            "Let us kill him, and we'll have corn at our own price.\n",
            "Is't a verdict?\n",
            "\n",
            "All:\n",
            "No more talking on't; let it be done: away, away!\n",
            "\n",
            "Second Citizen:\n",
            "One word, good citizens.\n",
            "\n",
            "First Citizen:\n",
            "We are accounted poor citizens, the patricians good.\n",
            "What authority surfeits on would relieve us: if they\n",
            "would yield us but the superfluity, while it were\n",
            "wholesome, we might guess they relieved us humanely;\n",
            "but they think we are too dear: the leanness that\n",
            "afflicts us, the object of our misery, is as an\n",
            "inventory to particularise their abundance; our\n",
            "sufferance is a gain to them Let us revenge this with\n",
            "our pikes, ere we become rakes: for the gods know I\n",
            "speak this in hunger for bread, not in thirst for revenge.\n",
            "\n",
            "\n",
            "Printing the first 10 characters of the vocab list: ['\\n', ' ', '!', '$', '&', \"'\", ',', '-', '.', '3']\n",
            "Total number of characters in our dataset (Vocabulary Size): 65\n"
          ]
        }
      ]
    },
    {
      "cell_type": "code",
      "source": [
        "# Output of above code\n",
        "# Mapping integers to characters (itos)\n",
        "itos = {i: ch for i, ch in enumerate(vocab)}\n",
        "\n",
        "# Mapping characters to integers (stoi)\n",
        "stoi = {ch: i for i, ch in enumerate(vocab)}\n",
        "# Encode function: Converts a string to a list of integers using the mapping stoi\n",
        "def encode(s):\n",
        "    return [stoi[ch] for ch in s]\n",
        "\n",
        "# Decode function: Converts a list of integers back to a string using the mapping itos\n",
        "def decode(l):\n",
        "    return ''.join([itos[i] for i in l])\n",
        "\n",
        "# Example: Encode the string \"hello\" and then decode the result\n",
        "decode(encode(\"morning\"))"
      ],
      "metadata": {
        "colab": {
          "base_uri": "https://localhost:8080/",
          "height": 35
        },
        "id": "LA-oO4cE3NL-",
        "outputId": "8567714c-ae00-4b7d-c8f9-88be0a652a06"
      },
      "execution_count": null,
      "outputs": [
        {
          "output_type": "execute_result",
          "data": {
            "text/plain": [
              "'morning'"
            ],
            "application/vnd.google.colaboratory.intrinsic+json": {
              "type": "string"
            }
          },
          "metadata": {},
          "execution_count": 5
        }
      ]
    },
    {
      "cell_type": "code",
      "source": [
        "# Convert the dataset into a torch tensor with specified data type (dtype)\n",
        "dataset = torch.tensor(encode(lines), dtype=torch.int8)\n",
        "\n",
        "# Display the shape of the resulting tensor\n",
        "print(dataset.shape)"
      ],
      "metadata": {
        "colab": {
          "base_uri": "https://localhost:8080/"
        },
        "id": "H_s6jplF3Q95",
        "outputId": "c234384d-9b00-4e57-a82c-fbb9124d2045"
      },
      "execution_count": null,
      "outputs": [
        {
          "output_type": "stream",
          "name": "stdout",
          "text": [
            "torch.Size([1115394])\n"
          ]
        }
      ]
    },
    {
      "cell_type": "markdown",
      "source": [
        "# Тут все функции"
      ],
      "metadata": {
        "id": "9hJqjPh_3qNS"
      }
    },
    {
      "cell_type": "code",
      "source": [
        "# Определяем устройство\n",
        "device = torch.device(\"cuda\" if torch.cuda.is_available() else \"cpu\")\n",
        "\n",
        "\n",
        "# Function to get batches for training, validation, or testing\n",
        "def get_batches(data, split, batch_size, context_window, config=MASTER_CONFIG):\n",
        "    # Split the dataset into training, validation, and test sets\n",
        "    train = data[:int(.8 * len(data))]\n",
        "    val = data[int(.8 * len(data)): int(.9 * len(data))]\n",
        "    test = data[int(.9 * len(data)):]\n",
        "\n",
        "    # Determine which split to use\n",
        "    batch_data = train\n",
        "    if split == 'val':\n",
        "        batch_data = val\n",
        "    if split == 'test':\n",
        "        batch_data = test\n",
        "\n",
        "    # Pick random starting points within the data\n",
        "    ix = torch.randint(0, batch_data.size(0) - context_window - 1, (batch_size,))\n",
        "\n",
        "    # Create input sequences (x) and corresponding target sequences (y)\n",
        "    x = torch.stack([batch_data[i:i+context_window] for i in ix]).long().to(device)\n",
        "    y = torch.stack([batch_data[i+1:i+context_window+1] for i in ix]).long().to(device)\n",
        "\n",
        "    return x, y\n",
        "\n",
        "\n",
        "@torch.no_grad()  # Don't compute gradients for this function\n",
        "def evaluate_loss(model, config=MASTER_CONFIG):\n",
        "    # Placeholder for the evaluation results\n",
        "    out = {}\n",
        "\n",
        "    # Set the model to evaluation mode\n",
        "    model.eval()\n",
        "\n",
        "    # Iterate through training and validation splits\n",
        "    for split in [\"train\", \"val\"]:\n",
        "        # Placeholder for individual losses\n",
        "        losses = []\n",
        "\n",
        "        # Generate 10 batches for evaluation\n",
        "        for _ in range(10):\n",
        "            # Get input sequences (xb) and target sequences (yb)\n",
        "            xb, yb = get_batches(dataset, split, config['batch_size'], config['context_window'])\n",
        "\n",
        "            # Perform model inference and calculate the loss\n",
        "            _, loss = model(xb, yb)\n",
        "\n",
        "            # Append the loss to the list\n",
        "            losses.append(loss.item())\n",
        "\n",
        "        # Calculate the mean loss for the split and store it in the output dictionary\n",
        "        out[split] = np.mean(losses)\n",
        "\n",
        "    # Set the model back to training mode\n",
        "    model.train()\n",
        "\n",
        "    return out\n",
        "\n",
        "\n",
        "# Function to perform training\n",
        "def train(model, optimizer, scheduler=None, config=MASTER_CONFIG, print_logs=False):\n",
        "    # Placeholder for storing losses\n",
        "    losses = []\n",
        "\n",
        "    # Start tracking time\n",
        "    start_time = time.time()\n",
        "\n",
        "    # Переместим модель на устройство\n",
        "    model.to(device)\n",
        "\n",
        "    # Iterate through epochs\n",
        "    for epoch in tqdm(range(config['epochs']), desc=\"Training\"):\n",
        "        # Zero out gradients\n",
        "        optimizer.zero_grad()\n",
        "\n",
        "        # Obtain batches for training\n",
        "        xs, ys = get_batches(dataset, 'train', config['batch_size'], config['context_window'])\n",
        "\n",
        "        # Forward pass through the model to calculate logits and loss\n",
        "        logits, loss = model(xs, targets=ys)\n",
        "\n",
        "        # Backward pass and optimization step\n",
        "        loss.backward()\n",
        "        optimizer.step()\n",
        "\n",
        "        # If a learning rate scheduler is provided, adjust the learning rate\n",
        "        if scheduler:\n",
        "            scheduler.step()\n",
        "\n",
        "        # Log progress every specified interval\n",
        "        if epoch % config['log_interval'] == 0:\n",
        "            # Calculate batch time\n",
        "            batch_time = time.time() - start_time\n",
        "\n",
        "            # Evaluate loss on validation set\n",
        "            x = evaluate_loss(model)\n",
        "\n",
        "            # Store the validation loss\n",
        "            losses += [x]\n",
        "\n",
        "            # Print progress logs if specified\n",
        "            if print_logs:\n",
        "                print(f\"Epoch {epoch} | val loss {x['val']:.3f} | Time {batch_time:.3f} | ETA in seconds {batch_time * (config['epochs'] - epoch)/config['log_interval'] :.3f}\")\n",
        "\n",
        "            # Reset the timer\n",
        "            start_time = time.time()\n",
        "\n",
        "            # Print learning rate if a scheduler is provided\n",
        "            if scheduler:\n",
        "                print(\"lr: \", scheduler.get_lr())\n",
        "\n",
        "    # Print the final validation loss\n",
        "    print(\"Validation loss: \", losses[-1]['val'])\n",
        "\n",
        "    # Plot the training and validation loss curves\n",
        "    return pd.DataFrame(losses).plot()\n",
        "\n",
        "class RMSNorm(nn.Module):\n",
        "    def __init__(self, layer_shape, eps=1e-8, bias=False):\n",
        "        super(RMSNorm, self).__init__()\n",
        "\n",
        "        # Registering a learnable parameter 'scale' as a parameter of the module\n",
        "        self.register_parameter(\"scale\", nn.Parameter(torch.ones(layer_shape)))\n",
        "\n",
        "    def forward(self, x):\n",
        "        \"\"\"\n",
        "        Assumes shape is (batch, seq_len, d_model)\n",
        "        \"\"\"\n",
        "        # Calculating the Frobenius norm, RMS = 1/sqrt(N) * Frobenius norm\n",
        "        ff_rms = torch.linalg.norm(x, dim=(1,2)) * x[0].numel() ** -.5\n",
        "\n",
        "        # Normalizing the input tensor 'x' with respect to RMS\n",
        "        raw = x / ff_rms.unsqueeze(-1).unsqueeze(-1)\n",
        "\n",
        "        # Scaling the normalized tensor using the learnable parameter 'scale'\n",
        "        return self.scale[:x.shape[1], :].unsqueeze(0) * raw\n",
        "\n",
        "def get_rotary_matrix(context_window, embedding_dim):\n",
        "    # Initialize a tensor for the rotary matrix with zeros\n",
        "    R = torch.zeros((context_window, embedding_dim, embedding_dim), requires_grad=False)\n",
        "\n",
        "    # Loop through each position in the context window\n",
        "    for position in range(context_window):\n",
        "        # Loop through each dimension in the embedding\n",
        "        for i in range(embedding_dim // 2):\n",
        "            # Calculate the rotation angle (theta) based on the position and embedding dimension\n",
        "            theta = 10000. ** (-2. * (i - 1) / embedding_dim)\n",
        "            # Calculate the rotated matrix elements using sine and cosine functions\n",
        "            m_theta = position * theta\n",
        "            R[position, 2 * i, 2 * i] = np.cos(m_theta)\n",
        "            R[position, 2 * i, 2 * i + 1] = -np.sin(m_theta)\n",
        "            R[position, 2 * i + 1, 2 * i] = np.sin(m_theta)\n",
        "            R[position, 2 * i + 1, 2 * i + 1] = np.cos(m_theta)\n",
        "    return R\n",
        "\n",
        "class RoPEMaskedAttentionHead(nn.Module):\n",
        "    def __init__(self, config):\n",
        "        super().__init__()\n",
        "        self.config = config\n",
        "        # Linear transformation for query\n",
        "        self.w_q = nn.Linear(config['d_model'], config['d_model'], bias=False)\n",
        "        # Linear transformation for key\n",
        "        self.w_k = nn.Linear(config['d_model'], config['d_model'], bias=False)\n",
        "        # Linear transformation for value\n",
        "        self.w_v = nn.Linear(config['d_model'], config['d_model'], bias=False)\n",
        "        # Obtain rotary matrix for positional embeddings\n",
        "        self.R = get_rotary_matrix(config['context_window'], config['d_model'])\n",
        "\n",
        "    def get_rotary_matrix(context_window, embedding_dim):\n",
        "        # Generate rotational matrix for RoPE\n",
        "        R = torch.zeros((context_window, embedding_dim, embedding_dim), requires_grad=False)\n",
        "        for position in range(context_window):\n",
        "            for i in range(embedding_dim//2):\n",
        "                # Calculate the rotation angle (theta) based on the position and embedding dimension\n",
        "                theta = 10000. ** (-2. * (i - 1) / embedding_dim)\n",
        "                # Calculate the rotated matrix elements using sine and cosine functions\n",
        "                m_theta = position * theta\n",
        "                R[position, 2 * i, 2 * i] = np.cos(m_theta)\n",
        "                R[position, 2 * i, 2 * i + 1] = -np.sin(m_theta)\n",
        "                R[position, 2 * i + 1, 2 * i] = np.sin(m_theta)\n",
        "                R[position, 2 * i + 1, 2 * i + 1] = np.cos(m_theta)\n",
        "        return R\n",
        "\n",
        "    def forward(self, x, return_attn_weights=False):\n",
        "        # x: input tensor of shape (batch, sequence length, dimension)\n",
        "        x.to(device)\n",
        "        b, m, d = x.shape  # batch size, sequence length, dimension\n",
        "\n",
        "        # Linear transformations for Q, K, and V\n",
        "        q = self.w_q(x).to(device)\n",
        "        k = self.w_k(x).to(device)\n",
        "        v = self.w_v(x).to(device)\n",
        "        R = self.R.to(device)\n",
        "\n",
        "        # Rotate Q and K using the RoPE matrix\n",
        "        q_rotated = (torch.bmm(q.transpose(0, 1), R[:m])).transpose(0, 1)\n",
        "        k_rotated = (torch.bmm(k.transpose(0, 1), R[:m])).transpose(0, 1)\n",
        "\n",
        "        # Perform scaled dot-product attention\n",
        "        activations = F.scaled_dot_product_attention(\n",
        "            q_rotated, k_rotated, v, dropout_p=0.1, is_causal=True\n",
        "        )\n",
        "\n",
        "        if return_attn_weights:\n",
        "            # Create a causal attention mask\n",
        "            attn_mask = torch.tril(torch.ones((m, m)), diagonal=0)\n",
        "            # Calculate attention weights and add causal mask\n",
        "            attn_weights = torch.bmm(q_rotated, k_rotated.transpose(1, 2)) / np.sqrt(d) + attn_mask\n",
        "            attn_weights = F.softmax(attn_weights, dim=-1)\n",
        "            return activations, attn_weights\n",
        "\n",
        "        return activations\n",
        "\n",
        "class RoPEMaskedMultiheadAttention(nn.Module):\n",
        "    def __init__(self, config):\n",
        "        super().__init__()\n",
        "        self.config = config\n",
        "        # Create a list of RoPEMaskedAttentionHead instances as attention heads\n",
        "        self.heads = nn.ModuleList([\n",
        "            RoPEMaskedAttentionHead(config) for _ in range(config['n_heads'])\n",
        "        ])\n",
        "        self.linear = nn.Linear(config['n_heads'] * config['d_model'], config['d_model'])  # Linear layer after concatenating heads\n",
        "        self.dropout = nn.Dropout(.1)  # Dropout layer\n",
        "\n",
        "    def forward(self, x):\n",
        "        # x: input tensor of shape (batch, sequence length, dimension)\n",
        "        x.to(device)\n",
        "\n",
        "        # Process each attention head and concatenate the results\n",
        "        heads = [h(x) for h in self.heads]\n",
        "        x = torch.cat(heads, dim=-1)\n",
        "\n",
        "        # Apply linear transformation to the concatenated output\n",
        "        x = self.linear(x)\n",
        "\n",
        "        # Apply dropout\n",
        "        x = self.dropout(x)\n",
        "        return x\n",
        "\n",
        "class SwiGLU(nn.Module):\n",
        "    \"\"\" Paper Link -> https://arxiv.org/pdf/2002.05202v1.pdf \"\"\"\n",
        "    def __init__(self, size):\n",
        "        super().__init__()\n",
        "        self.linear_gate = nn.Linear(size, size)  # Linear transformation for the gating mechanism\n",
        "        self.linear = nn.Linear(size, size)  # Linear transformation for the main branch\n",
        "        self.beta = torch.randn(1, requires_grad=True)  # Random initialization of the beta parameter\n",
        "\n",
        "        # Using nn.Parameter for beta to ensure it's recognized as a learnable parameter\n",
        "        self.beta = nn.Parameter(torch.ones(1))\n",
        "        self.register_parameter(\"beta\", self.beta)\n",
        "\n",
        "    def forward(self, x):\n",
        "        # Swish-Gated Linear Unit computation\n",
        "        x.to(device)\n",
        "        swish_gate = self.linear_gate(x) * torch.sigmoid(self.beta * self.linear_gate(x))\n",
        "        out = swish_gate * self.linear(x)  # Element-wise multiplication of the gate and main branch\n",
        "        return out\n",
        "\n",
        "\n",
        "# add RMSNorm and residual connection\n",
        "class LlamaBlock(nn.Module):\n",
        "    def __init__(self, config):\n",
        "        super().__init__()\n",
        "        self.config = config\n",
        "\n",
        "        # RMSNorm layer\n",
        "        self.rms = RMSNorm((config['context_window'], config['d_model']))\n",
        "\n",
        "        # RoPE Masked Multihead Attention layer\n",
        "        self.attention = RoPEMaskedMultiheadAttention(config)\n",
        "\n",
        "        # Feedforward layer with SwiGLU activation\n",
        "        self.feedforward = nn.Sequential(\n",
        "            nn.Linear(config['d_model'], config['d_model']),\n",
        "            SwiGLU(config['d_model']),\n",
        "        )\n",
        "\n",
        "    def forward(self, x):\n",
        "        # one block of attention\n",
        "        x = self.rms(x) # RMS pre-normalization\n",
        "        x = x + self.attention(x)  # residual connection\n",
        "\n",
        "        x = self.rms(x) # RMS pre-normalization\n",
        "        x = x + self.feedforward(x)  # residual connection\n",
        "        return x\n",
        "\n",
        "\n",
        "\n",
        "class Llama(nn.Module):\n",
        "    def __init__(self, config):\n",
        "        super().__init__()\n",
        "        self.config = config\n",
        "        # Embedding layer for token representations\n",
        "        self.embeddings = nn.Embedding(config['vocab_size'], config['d_model'])\n",
        "        # Sequential block of LlamaBlocks based on the specified number of layers\n",
        "        self.llama_blocks = nn.Sequential(\n",
        "            OrderedDict([(f\"llama_{i}\", LlamaBlock(config)) for i in range(config['n_layers'])])\n",
        "        )\n",
        "        # Feedforward network (FFN) for final output\n",
        "        self.ffn = nn.Sequential(\n",
        "            nn.Linear(config['d_model'], config['d_model']),\n",
        "            SwiGLU(config['d_model']),\n",
        "            nn.Linear(config['d_model'], config['vocab_size']),\n",
        "        )\n",
        "\n",
        "        # Print total number of parameters in the model\n",
        "        print(\"model params:\", sum([m.numel() for m in self.parameters()]))\n",
        "\n",
        "    def forward(self, idx, targets=None):\n",
        "        # Input token indices are passed through the embedding layer\n",
        "        x = self.embeddings(idx)\n",
        "        # Process the input through the LlamaBlocks\n",
        "        x = self.llama_blocks(x)\n",
        "        # Pass the processed input through the final FFN for output logits\n",
        "        logits = self.ffn(x)\n",
        "\n",
        "        # If targets are not provided, return only the logits\n",
        "        if targets is None:\n",
        "            return logits\n",
        "        # If targets are provided, compute and return the cross-entropy loss\n",
        "        else:\n",
        "            loss = F.cross_entropy(logits.view(-1, self.config['vocab_size']), targets.view(-1))\n",
        "            return logits, loss"
      ],
      "metadata": {
        "id": "9CEQUReZ3Wwk"
      },
      "execution_count": null,
      "outputs": []
    },
    {
      "cell_type": "markdown",
      "source": [
        "# Запуск модели"
      ],
      "metadata": {
        "id": "SyjNgzsl7VZW"
      }
    },
    {
      "cell_type": "code",
      "source": [],
      "metadata": {
        "id": "VATPgJ4CJXkd"
      },
      "execution_count": null,
      "outputs": []
    },
    {
      "cell_type": "code",
      "source": [
        "# Перемещаем модель на устройство\n",
        "llama = Llama(MASTER_CONFIG).to(device)\n",
        "\n",
        "# Перемещаем батчи данных на устройство\n",
        "xs, ys = get_batches(dataset, 'train', MASTER_CONFIG['batch_size'], MASTER_CONFIG['context_window'])\n",
        "xs, ys = xs.to(device), ys.to(device)\n",
        "\n",
        "# Количество параметров модели\n",
        "print(\"Total number of parameters in the Model:\", sum([m.numel() for m in llama.parameters()]))\n",
        "\n",
        "# Определяем Adam оптимизатор для параметров модели\n",
        "optimizer = torch.optim.Adam(llama.parameters())\n",
        "\n",
        "# Выполняем процесс обучения\n",
        "train(llama, optimizer)"
      ],
      "metadata": {
        "colab": {
          "base_uri": "https://localhost:8080/",
          "height": 515
        },
        "id": "yGgdyt4E3uTP",
        "outputId": "6a4c2806-41ba-4d89-e0a2-c3282aa152c3"
      },
      "execution_count": null,
      "outputs": [
        {
          "output_type": "stream",
          "name": "stdout",
          "text": [
            "model params: 2370246\n",
            "Total number of parameters in the Model: 2370246\n"
          ]
        },
        {
          "output_type": "stream",
          "name": "stderr",
          "text": [
            "Training: 100%|██████████| 3000/3000 [07:02<00:00,  7.10it/s]"
          ]
        },
        {
          "output_type": "stream",
          "name": "stdout",
          "text": [
            "Validation loss:  1.7440804362297058\n"
          ]
        },
        {
          "output_type": "stream",
          "name": "stderr",
          "text": [
            "\n"
          ]
        },
        {
          "output_type": "execute_result",
          "data": {
            "text/plain": [
              "<Axes: >"
            ]
          },
          "metadata": {},
          "execution_count": 8
        },
        {
          "output_type": "display_data",
          "data": {
            "text/plain": [
              "<Figure size 640x480 with 1 Axes>"
            ],
            "image/png": "[encoded data removed]"
          },
          "metadata": {}
        }
      ]
    },
    {
      "cell_type": "code",
      "source": [
        "device = torch.device(\"cpu\")\n",
        "\n",
        "# Generate function for text generation using the trained model\n",
        "def generate(model, config=MASTER_CONFIG, max_new_tokens=30):\n",
        "    model.to(device)\n",
        "    idx = torch.zeros(5, 1).long()\n",
        "    for _ in range(max_new_tokens):\n",
        "        # Call the model\n",
        "        logits = model(idx[:, -config['context_window']:])\n",
        "        last_time_step_logits = logits[\n",
        "            :, -1, :\n",
        "        ]  # all the batches (1), last time step, all the logits\n",
        "        p = F.softmax(last_time_step_logits, dim=-1)  # softmax to get probabilities\n",
        "        idx_next = torch.multinomial(\n",
        "            p, num_samples=1\n",
        "        )  # sample from the distribution to get the next token\n",
        "        idx = torch.cat([idx, idx_next], dim=-1)  # append to the sequence\n",
        "    return [decode(x) for x in idx.tolist()]\n",
        "\n",
        "\n",
        "# Generate text using the trained LLM (llama) with a maximum of 500 tokens\n",
        "generated_text = generate(llama, MASTER_CONFIG, 500)[0]\n",
        "print(generated_text)\n"
      ],
      "metadata": {
        "colab": {
          "base_uri": "https://localhost:8080/"
        },
        "id": "mLWJaL5M6rWa",
        "outputId": "58af9ddf-393f-4a8c-8d82-ae1ec75b2fcf"
      },
      "execution_count": null,
      "outputs": [
        {
          "output_type": "stream",
          "name": "stdout",
          "text": [
            "\n",
            "His navy writh me\n",
            "He is! For ore, prisoin\n",
            "in of those of thither: the with me ow, sir,\n",
            "You', and depert oft vablosling,\n",
            "Mase mays bom manbal.\n",
            "\n",
            "GRPALIP:\n",
            "And sin chance IV:\n",
            "Sweet foic con:\n",
            "Fwith nain 'tser 'tis,\n",
            "To troublt of they, end:\n",
            "By tro evers sonour. So proud it sI hosps,\n",
            "Here's priddampace;\n",
            "As peneans: in yous rayce, grosal pign''d frost;\n",
            "Phost have hists honhul II thill in gurt thh spostsk'd'swidear;\n",
            "Chnmand: theres I mille\n",
            "'And vyord but I din than e'er;\n",
            "They soplain him?\n",
            "\n",
            "MOLKINGE:\n",
            "O WA\n"
          ]
        }
      ]
    },
    {
      "cell_type": "code",
      "source": [],
      "metadata": {
        "id": "w-8aJAZA_DHe"
      },
      "execution_count": null,
      "outputs": []
    }
  ]
}